{
 "cells": [
  {
   "cell_type": "markdown",
   "metadata": {},
   "source": [
    "<div style=\"text-align: center\">\n",
    "\n",
    "<b><h1>  </h1></b>\n",
    "<h2> Assignment 5 - Twitter interaction analysis </h2>\n",
    "<h2> Modern Information Retrieval Course </h2>\n",
    "<h3> Dr. Asgari </h3>\n",
    "<h3> Group Members </h3>\n",
    "Parsa Mohammadian - 98102284\n",
    "<br/>\n",
    "Sara Azarnoush - 98170668\n",
    "<br/>\n",
    "Kahbod Aeini - 98101209 \n",
    "<br/>\n",
    "<br/>\n",
    "Sharif University of Technology\n",
    "<br/>\n",
    "Computer Engineering Department\n",
    "<hr/>\n",
    "</div>"
   ]
  }
 ],
 "metadata": {
  "language_info": {
   "name": "python"
  },
  "orig_nbformat": 4
 },
 "nbformat": 4,
 "nbformat_minor": 2
}
